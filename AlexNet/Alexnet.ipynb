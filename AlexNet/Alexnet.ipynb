{
  "nbformat": 4,
  "nbformat_minor": 0,
  "metadata": {
    "colab": {
      "name": "Alexnet.ipynb",
      "provenance": [],
      "collapsed_sections": []
    },
    "kernelspec": {
      "name": "python3",
      "display_name": "Python 3"
    },
    "language_info": {
      "name": "python"
    },
    "widgets": {
      "application/vnd.jupyter.widget-state+json": {
        "948e4de8b4d4400189f65517c0e1ca3b": {
          "model_module": "@jupyter-widgets/controls",
          "model_name": "HBoxModel",
          "state": {
            "_view_name": "HBoxView",
            "_dom_classes": [],
            "_model_name": "HBoxModel",
            "_view_module": "@jupyter-widgets/controls",
            "_model_module_version": "1.5.0",
            "_view_count": null,
            "_view_module_version": "1.5.0",
            "box_style": "",
            "layout": "IPY_MODEL_c84c37e9c084446c88b7fba5961ebc69",
            "_model_module": "@jupyter-widgets/controls",
            "children": [
              "IPY_MODEL_53828d020a984a2a9c857b3fff9dd946",
              "IPY_MODEL_9600a4719b984f269e8ab23cd7696462"
            ]
          }
        },
        "c84c37e9c084446c88b7fba5961ebc69": {
          "model_module": "@jupyter-widgets/base",
          "model_name": "LayoutModel",
          "state": {
            "_view_name": "LayoutView",
            "grid_template_rows": null,
            "right": null,
            "justify_content": null,
            "_view_module": "@jupyter-widgets/base",
            "overflow": null,
            "_model_module_version": "1.2.0",
            "_view_count": null,
            "flex_flow": null,
            "width": null,
            "min_width": null,
            "border": null,
            "align_items": null,
            "bottom": null,
            "_model_module": "@jupyter-widgets/base",
            "top": null,
            "grid_column": null,
            "overflow_y": null,
            "overflow_x": null,
            "grid_auto_flow": null,
            "grid_area": null,
            "grid_template_columns": null,
            "flex": null,
            "_model_name": "LayoutModel",
            "justify_items": null,
            "grid_row": null,
            "max_height": null,
            "align_content": null,
            "visibility": null,
            "align_self": null,
            "height": null,
            "min_height": null,
            "padding": null,
            "grid_auto_rows": null,
            "grid_gap": null,
            "max_width": null,
            "order": null,
            "_view_module_version": "1.2.0",
            "grid_template_areas": null,
            "object_position": null,
            "object_fit": null,
            "grid_auto_columns": null,
            "margin": null,
            "display": null,
            "left": null
          }
        },
        "53828d020a984a2a9c857b3fff9dd946": {
          "model_module": "@jupyter-widgets/controls",
          "model_name": "FloatProgressModel",
          "state": {
            "_view_name": "ProgressView",
            "style": "IPY_MODEL_cc2f446d7651458a9fdb4cd468d8e2be",
            "_dom_classes": [],
            "description": "",
            "_model_name": "FloatProgressModel",
            "bar_style": "success",
            "max": 170498071,
            "_view_module": "@jupyter-widgets/controls",
            "_model_module_version": "1.5.0",
            "value": 170498071,
            "_view_count": null,
            "_view_module_version": "1.5.0",
            "orientation": "horizontal",
            "min": 0,
            "description_tooltip": null,
            "_model_module": "@jupyter-widgets/controls",
            "layout": "IPY_MODEL_fd27eec5e33f46c6a1d77ab722c80319"
          }
        },
        "9600a4719b984f269e8ab23cd7696462": {
          "model_module": "@jupyter-widgets/controls",
          "model_name": "HTMLModel",
          "state": {
            "_view_name": "HTMLView",
            "style": "IPY_MODEL_332558743c344392b0ec38d2dd7f13de",
            "_dom_classes": [],
            "description": "",
            "_model_name": "HTMLModel",
            "placeholder": "​",
            "_view_module": "@jupyter-widgets/controls",
            "_model_module_version": "1.5.0",
            "value": " 170499072/? [00:03&lt;00:00, 45080771.87it/s]",
            "_view_count": null,
            "_view_module_version": "1.5.0",
            "description_tooltip": null,
            "_model_module": "@jupyter-widgets/controls",
            "layout": "IPY_MODEL_2ed23f78eaac4019b7b7df269e4b67ad"
          }
        },
        "cc2f446d7651458a9fdb4cd468d8e2be": {
          "model_module": "@jupyter-widgets/controls",
          "model_name": "ProgressStyleModel",
          "state": {
            "_view_name": "StyleView",
            "_model_name": "ProgressStyleModel",
            "description_width": "initial",
            "_view_module": "@jupyter-widgets/base",
            "_model_module_version": "1.5.0",
            "_view_count": null,
            "_view_module_version": "1.2.0",
            "bar_color": null,
            "_model_module": "@jupyter-widgets/controls"
          }
        },
        "fd27eec5e33f46c6a1d77ab722c80319": {
          "model_module": "@jupyter-widgets/base",
          "model_name": "LayoutModel",
          "state": {
            "_view_name": "LayoutView",
            "grid_template_rows": null,
            "right": null,
            "justify_content": null,
            "_view_module": "@jupyter-widgets/base",
            "overflow": null,
            "_model_module_version": "1.2.0",
            "_view_count": null,
            "flex_flow": null,
            "width": null,
            "min_width": null,
            "border": null,
            "align_items": null,
            "bottom": null,
            "_model_module": "@jupyter-widgets/base",
            "top": null,
            "grid_column": null,
            "overflow_y": null,
            "overflow_x": null,
            "grid_auto_flow": null,
            "grid_area": null,
            "grid_template_columns": null,
            "flex": null,
            "_model_name": "LayoutModel",
            "justify_items": null,
            "grid_row": null,
            "max_height": null,
            "align_content": null,
            "visibility": null,
            "align_self": null,
            "height": null,
            "min_height": null,
            "padding": null,
            "grid_auto_rows": null,
            "grid_gap": null,
            "max_width": null,
            "order": null,
            "_view_module_version": "1.2.0",
            "grid_template_areas": null,
            "object_position": null,
            "object_fit": null,
            "grid_auto_columns": null,
            "margin": null,
            "display": null,
            "left": null
          }
        },
        "332558743c344392b0ec38d2dd7f13de": {
          "model_module": "@jupyter-widgets/controls",
          "model_name": "DescriptionStyleModel",
          "state": {
            "_view_name": "StyleView",
            "_model_name": "DescriptionStyleModel",
            "description_width": "",
            "_view_module": "@jupyter-widgets/base",
            "_model_module_version": "1.5.0",
            "_view_count": null,
            "_view_module_version": "1.2.0",
            "_model_module": "@jupyter-widgets/controls"
          }
        },
        "2ed23f78eaac4019b7b7df269e4b67ad": {
          "model_module": "@jupyter-widgets/base",
          "model_name": "LayoutModel",
          "state": {
            "_view_name": "LayoutView",
            "grid_template_rows": null,
            "right": null,
            "justify_content": null,
            "_view_module": "@jupyter-widgets/base",
            "overflow": null,
            "_model_module_version": "1.2.0",
            "_view_count": null,
            "flex_flow": null,
            "width": null,
            "min_width": null,
            "border": null,
            "align_items": null,
            "bottom": null,
            "_model_module": "@jupyter-widgets/base",
            "top": null,
            "grid_column": null,
            "overflow_y": null,
            "overflow_x": null,
            "grid_auto_flow": null,
            "grid_area": null,
            "grid_template_columns": null,
            "flex": null,
            "_model_name": "LayoutModel",
            "justify_items": null,
            "grid_row": null,
            "max_height": null,
            "align_content": null,
            "visibility": null,
            "align_self": null,
            "height": null,
            "min_height": null,
            "padding": null,
            "grid_auto_rows": null,
            "grid_gap": null,
            "max_width": null,
            "order": null,
            "_view_module_version": "1.2.0",
            "grid_template_areas": null,
            "object_position": null,
            "object_fit": null,
            "grid_auto_columns": null,
            "margin": null,
            "display": null,
            "left": null
          }
        }
      }
    },
    "accelerator": "GPU"
  },
  "cells": [
    {
      "cell_type": "code",
      "metadata": {
        "id": "-lqP16LgovUk"
      },
      "source": [
        "import torch\n",
        "import numpy as np\n",
        "import torchvision\n",
        "from torchvision import datasets as datasets"
      ],
      "execution_count": 1,
      "outputs": []
    },
    {
      "cell_type": "code",
      "metadata": {
        "id": "T45Oz_wpo0KN",
        "colab": {
          "base_uri": "https://localhost:8080/"
        },
        "outputId": "a8cd5bf3-2718-4e68-ae31-36bf59d90738"
      },
      "source": [
        "!wget -c https://raw.githubusercontent.com/udacity/deep-learning-v2-pytorch/master/intro-to-pytorch/helper.py"
      ],
      "execution_count": 2,
      "outputs": [
        {
          "output_type": "stream",
          "text": [
            "--2021-06-27 09:55:19--  https://raw.githubusercontent.com/udacity/deep-learning-v2-pytorch/master/intro-to-pytorch/helper.py\n",
            "Resolving raw.githubusercontent.com (raw.githubusercontent.com)... 185.199.108.133, 185.199.109.133, 185.199.110.133, ...\n",
            "Connecting to raw.githubusercontent.com (raw.githubusercontent.com)|185.199.108.133|:443... connected.\n",
            "HTTP request sent, awaiting response... 200 OK\n",
            "Length: 2813 (2.7K) [text/plain]\n",
            "Saving to: ‘helper.py’\n",
            "\n",
            "helper.py           100%[===================>]   2.75K  --.-KB/s    in 0s      \n",
            "\n",
            "2021-06-27 09:55:19 (49.6 MB/s) - ‘helper.py’ saved [2813/2813]\n",
            "\n"
          ],
          "name": "stdout"
        }
      ]
    },
    {
      "cell_type": "code",
      "metadata": {
        "id": "FvrAoRRnIlJT"
      },
      "source": [
        "\n",
        "transforms = torchvision.transforms.Compose([\n",
        "    torchvision.transforms.Resize(227),\n",
        "    torchvision.transforms.ToTensor(),\n",
        "    torchvision.transforms.Normalize((0.5,0.5,0.5),(0.5,0.5,0.5))\n",
        "])"
      ],
      "execution_count": 3,
      "outputs": []
    },
    {
      "cell_type": "code",
      "metadata": {
        "colab": {
          "base_uri": "https://localhost:8080/",
          "height": 116,
          "referenced_widgets": [
            "948e4de8b4d4400189f65517c0e1ca3b",
            "c84c37e9c084446c88b7fba5961ebc69",
            "53828d020a984a2a9c857b3fff9dd946",
            "9600a4719b984f269e8ab23cd7696462",
            "cc2f446d7651458a9fdb4cd468d8e2be",
            "fd27eec5e33f46c6a1d77ab722c80319",
            "332558743c344392b0ec38d2dd7f13de",
            "2ed23f78eaac4019b7b7df269e4b67ad"
          ]
        },
        "id": "qlUSVSC-J27c",
        "outputId": "3a40bdec-8735-4dca-e2fa-7e2a0a9e90cf"
      },
      "source": [
        "train_data = datasets.CIFAR10('./images', train=True,\n",
        "                              download=True, transform=transforms)\n",
        "test_data = datasets.CIFAR10('./images', train=False,\n",
        "                             download=True, transform=transforms)\n",
        "\n",
        "trainloader = torch.utils.data.DataLoader(train_data, batch_size=64,shuffle=True)\n",
        "testloader = torch.utils.data.DataLoader(test_data, batch_size=64,shuffle=True)"
      ],
      "execution_count": 4,
      "outputs": [
        {
          "output_type": "stream",
          "text": [
            "Downloading https://www.cs.toronto.edu/~kriz/cifar-10-python.tar.gz to ./images/cifar-10-python.tar.gz\n"
          ],
          "name": "stdout"
        },
        {
          "output_type": "display_data",
          "data": {
            "application/vnd.jupyter.widget-view+json": {
              "model_id": "948e4de8b4d4400189f65517c0e1ca3b",
              "version_minor": 0,
              "version_major": 2
            },
            "text/plain": [
              "HBox(children=(FloatProgress(value=0.0, max=170498071.0), HTML(value='')))"
            ]
          },
          "metadata": {
            "tags": []
          }
        },
        {
          "output_type": "stream",
          "text": [
            "\n",
            "Extracting ./images/cifar-10-python.tar.gz to ./images\n",
            "Files already downloaded and verified\n"
          ],
          "name": "stdout"
        }
      ]
    },
    {
      "cell_type": "code",
      "metadata": {
        "id": "3P7F-eV4krJI"
      },
      "source": [
        "import torch.nn as nn\n",
        "import torch.nn.functional as F\n",
        "class AlexNet(nn.Module):\n",
        "  def __init__(self, n_classes):\n",
        "    super(AlexNet, self).__init__()\n",
        "    self.pool = nn.MaxPool2d(3, 2)\n",
        "    self.conv1 = nn.Conv2d(3, 96, kernel_size=(11,11), stride=4)\n",
        "    self.conv2 = nn.Conv2d(96, 256, kernel_size=(5,5),padding=2)\n",
        "    self.conv3 = nn.Conv2d(256, 384, kernel_size=(3,3),padding=1)\n",
        "    self.conv4 = nn.Conv2d(384, 384, kernel_size=(3,3),padding=1)\n",
        "    self.conv5 = nn.Conv2d(384, 256, kernel_size=(3,3),padding=1)\n",
        "    self.fc1 = nn.Linear(256*6*6, 4096)\n",
        "    self.fc2 = nn.Linear(4096, 4096)\n",
        "    self.fc3 = nn.Linear(4096, n_classes)\n",
        "    self.dropout = nn.Dropout(p = 0.5)\n",
        "\n",
        "  def forward(self, x):\n",
        "    x = self.pool(F.relu(self.conv1(x)))\n",
        "    x = self.pool(F.relu(self.conv2(x)))\n",
        "    x = F.relu(self.conv3(x))\n",
        "    x = F.relu(self.conv4(x))\n",
        "    x = self.pool(F.relu(self.conv5(x)))\n",
        "    x = x.view(x.size(0),256*6*6)\n",
        "    x = self.dropout(self.fc1(x))\n",
        "    x = self.dropout(self.fc2(x))\n",
        "    x = self.fc3(x)\n",
        "    return x"
      ],
      "execution_count": 5,
      "outputs": []
    },
    {
      "cell_type": "code",
      "metadata": {
        "colab": {
          "base_uri": "https://localhost:8080/"
        },
        "id": "xIj4AFab3X4C",
        "outputId": "eb1ce1d4-ac40-4278-eb29-24d91e075dec"
      },
      "source": [
        "model = AlexNet(n_classes=10)\n",
        "model.to('cuda')"
      ],
      "execution_count": 6,
      "outputs": [
        {
          "output_type": "execute_result",
          "data": {
            "text/plain": [
              "AlexNet(\n",
              "  (pool): MaxPool2d(kernel_size=3, stride=2, padding=0, dilation=1, ceil_mode=False)\n",
              "  (conv1): Conv2d(3, 96, kernel_size=(11, 11), stride=(4, 4))\n",
              "  (conv2): Conv2d(96, 256, kernel_size=(5, 5), stride=(1, 1), padding=(2, 2))\n",
              "  (conv3): Conv2d(256, 384, kernel_size=(3, 3), stride=(1, 1), padding=(1, 1))\n",
              "  (conv4): Conv2d(384, 384, kernel_size=(3, 3), stride=(1, 1), padding=(1, 1))\n",
              "  (conv5): Conv2d(384, 256, kernel_size=(3, 3), stride=(1, 1), padding=(1, 1))\n",
              "  (fc1): Linear(in_features=9216, out_features=4096, bias=True)\n",
              "  (fc2): Linear(in_features=4096, out_features=4096, bias=True)\n",
              "  (fc3): Linear(in_features=4096, out_features=10, bias=True)\n",
              "  (dropout): Dropout(p=0.5, inplace=False)\n",
              ")"
            ]
          },
          "metadata": {
            "tags": []
          },
          "execution_count": 6
        }
      ]
    },
    {
      "cell_type": "code",
      "metadata": {
        "id": "afFzJH2Jot-C",
        "colab": {
          "base_uri": "https://localhost:8080/"
        },
        "outputId": "5a8de80a-f810-4261-92e6-553381897f47"
      },
      "source": [
        "optimizer = torch.optim.SGD(model.parameters(), lr=0.001, momentum=0.9)\n",
        "#optimizer = torch.optim.Adam(model.parameters(), lr=0.002)\n",
        "criterion = nn.CrossEntropyLoss() \n",
        "num_epochs = 20\n",
        "for epoch in range(num_epochs):\n",
        "    training_loss = 0\n",
        "    for data in trainloader:\n",
        "      images, labels = data\n",
        "      images = images.to('cuda')\n",
        "      labels = labels.to('cuda')\n",
        "      output = model(images)\n",
        "      optimizer.zero_grad()\n",
        "      loss = criterion(output, labels)\n",
        "      loss.backward()\n",
        "      optimizer.step()\n",
        "      training_loss += loss.item()\n",
        "      \n",
        "    print(f'Training loss : {training_loss/len(trainloader)}')\n",
        "\n"
      ],
      "execution_count": 7,
      "outputs": [
        {
          "output_type": "stream",
          "text": [
            "/usr/local/lib/python3.7/dist-packages/torch/nn/functional.py:718: UserWarning: Named tensors and all their associated APIs are an experimental feature and subject to change. Please do not use them for anything important until they are released as stable. (Triggered internally at  /pytorch/c10/core/TensorImpl.h:1156.)\n",
            "  return torch.max_pool2d(input, kernel_size, stride, padding, dilation, ceil_mode)\n"
          ],
          "name": "stderr"
        },
        {
          "output_type": "stream",
          "text": [
            "Training loss : 2.2720954030980844\n",
            "Training loss : 1.8110992638656245\n",
            "Training loss : 1.529491868470331\n",
            "Training loss : 1.3848453382854267\n",
            "Training loss : 1.2498738755807852\n",
            "Training loss : 1.1274675915155874\n",
            "Training loss : 1.0088806148532712\n",
            "Training loss : 0.9138890361160878\n",
            "Training loss : 0.8284885807872733\n",
            "Training loss : 0.7542868870146134\n",
            "Training loss : 0.6929049839449051\n",
            "Training loss : 0.6419012867428763\n",
            "Training loss : 0.5869216276404193\n",
            "Training loss : 0.5447225392703205\n",
            "Training loss : 0.4966321719805603\n",
            "Training loss : 0.45802073470314447\n",
            "Training loss : 0.4182134490755513\n",
            "Training loss : 0.3770304339773515\n",
            "Training loss : 0.3438473294972611\n",
            "Training loss : 0.30539364937473745\n"
          ],
          "name": "stdout"
        }
      ]
    },
    {
      "cell_type": "code",
      "metadata": {
        "id": "aQyPFbczZEGR"
      },
      "source": [
        ""
      ],
      "execution_count": 7,
      "outputs": []
    },
    {
      "cell_type": "code",
      "metadata": {
        "colab": {
          "base_uri": "https://localhost:8080/"
        },
        "id": "dAWzacLRRNhz",
        "outputId": "b796a1cf-c6c0-4779-ba36-7890451c2a17"
      },
      "source": [
        "#Accuracy on Test set\n",
        "running_accuracy = 0\n",
        "total_accuracy = 0\n",
        "for data in testloader:\n",
        "  images, labels = data\n",
        "  images = images.to('cuda')\n",
        "  labels = labels.to('cuda')\n",
        "  output = model(images)\n",
        "  predicted_labels = torch.argmax(output, 1)\n",
        "  accuracy = (predicted_labels == labels).sum()/len(labels)\n",
        "  total_accuracy += accuracy/len(testloader)\n",
        "print(f'{total_accuracy*100}%') "
      ],
      "execution_count": 8,
      "outputs": [
        {
          "output_type": "stream",
          "text": [
            "80.1054916381836%\n"
          ],
          "name": "stdout"
        }
      ]
    }
  ]
}
 
