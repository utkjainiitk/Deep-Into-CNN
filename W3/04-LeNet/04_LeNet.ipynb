{
  "nbformat": 4,
  "nbformat_minor": 0,
  "metadata": {
    "colab": {
      "name": "04-LeNet.ipynb",
      "provenance": [],
      "collapsed_sections": []
    },
    "kernelspec": {
      "display_name": "Python 2",
      "language": "python",
      "name": "python2"
    },
    "widgets": {
      "application/vnd.jupyter.widget-state+json": {
        "c7b2ee179534449baf20e32bd214c5ff": {
          "model_module": "@jupyter-widgets/controls",
          "model_name": "HBoxModel",
          "state": {
            "_view_name": "HBoxView",
            "_dom_classes": [],
            "_model_name": "HBoxModel",
            "_view_module": "@jupyter-widgets/controls",
            "_model_module_version": "1.5.0",
            "_view_count": null,
            "_view_module_version": "1.5.0",
            "box_style": "",
            "layout": "IPY_MODEL_87aa7f82a7a44f3d9d13b1222be25130",
            "_model_module": "@jupyter-widgets/controls",
            "children": [
              "IPY_MODEL_4c07794eac8b4d6a803980d3a7e550a6",
              "IPY_MODEL_3c419a71693f4d5c9dcd3b8165732662"
            ]
          }
        },
        "87aa7f82a7a44f3d9d13b1222be25130": {
          "model_module": "@jupyter-widgets/base",
          "model_name": "LayoutModel",
          "state": {
            "_view_name": "LayoutView",
            "grid_template_rows": null,
            "right": null,
            "justify_content": null,
            "_view_module": "@jupyter-widgets/base",
            "_model_module_version": "1.2.0",
            "_view_count": null,
            "flex_flow": null,
            "min_width": null,
            "border": null,
            "align_items": null,
            "bottom": null,
            "_model_module": "@jupyter-widgets/base",
            "top": null,
            "grid_column": null,
            "width": null,
            "overflow_x": null,
            "grid_auto_flow": null,
            "grid_area": null,
            "grid_template_columns": null,
            "flex": null,
            "_model_name": "LayoutModel",
            "justify_items": null,
            "grid_row": null,
            "max_height": null,
            "align_content": null,
            "visibility": null,
            "overflow": null,
            "height": null,
            "min_height": null,
            "padding": null,
            "grid_auto_rows": null,
            "grid_gap": null,
            "overflow_y": null,
            "max_width": null,
            "order": null,
            "_view_module_version": "1.2.0",
            "align_self": null,
            "grid_template_areas": null,
            "object_position": null,
            "object_fit": null,
            "grid_auto_columns": null,
            "margin": null,
            "display": null,
            "left": null
          }
        },
        "4c07794eac8b4d6a803980d3a7e550a6": {
          "model_module": "@jupyter-widgets/controls",
          "model_name": "IntProgressModel",
          "state": {
            "_view_name": "ProgressView",
            "style": "IPY_MODEL_0d90b75a156f472781d662efd05bc55b",
            "_view_module": "@jupyter-widgets/controls",
            "_dom_classes": [],
            "orientation": "horizontal",
            "min": 0,
            "bar_style": "info",
            "max": 1,
            "_model_name": "IntProgressModel",
            "_model_module_version": "1.5.0",
            "value": 1,
            "_view_count": null,
            "_view_module_version": "1.5.0",
            "description_tooltip": null,
            "_model_module": "@jupyter-widgets/controls",
            "layout": "IPY_MODEL_ebfab1d4a13c45e9b1ae53a056088c46",
            "description": ""
          }
        },
        "3c419a71693f4d5c9dcd3b8165732662": {
          "model_module": "@jupyter-widgets/controls",
          "model_name": "HTMLModel",
          "state": {
            "_view_name": "HTMLView",
            "style": "IPY_MODEL_b4b00523320b4962a8097ca6c38824b3",
            "_dom_classes": [],
            "description": "",
            "_model_name": "HTMLModel",
            "placeholder": "​",
            "_view_module": "@jupyter-widgets/controls",
            "_model_module_version": "1.5.0",
            "value": "9920512it [05:10, 45392.65it/s]",
            "_view_count": null,
            "_view_module_version": "1.5.0",
            "description_tooltip": null,
            "_model_module": "@jupyter-widgets/controls",
            "layout": "IPY_MODEL_9a6980ac0ebe44d7b41a39125a960403"
          }
        },
        "0d90b75a156f472781d662efd05bc55b": {
          "model_module": "@jupyter-widgets/controls",
          "model_name": "ProgressStyleModel",
          "state": {
            "_view_name": "StyleView",
            "_model_name": "ProgressStyleModel",
            "description_width": "",
            "_view_module": "@jupyter-widgets/base",
            "_model_module_version": "1.5.0",
            "_view_count": null,
            "_view_module_version": "1.2.0",
            "bar_color": null,
            "_model_module": "@jupyter-widgets/controls"
          }
        },
        "ebfab1d4a13c45e9b1ae53a056088c46": {
          "model_module": "@jupyter-widgets/base",
          "model_name": "LayoutModel",
          "state": {
            "_view_name": "LayoutView",
            "grid_template_rows": null,
            "right": null,
            "justify_content": null,
            "_view_module": "@jupyter-widgets/base",
            "_model_module_version": "1.2.0",
            "_view_count": null,
            "flex_flow": null,
            "min_width": null,
            "border": null,
            "align_items": null,
            "bottom": null,
            "_model_module": "@jupyter-widgets/base",
            "top": null,
            "grid_column": null,
            "width": null,
            "overflow_x": null,
            "grid_auto_flow": null,
            "grid_area": null,
            "grid_template_columns": null,
            "flex": null,
            "_model_name": "LayoutModel",
            "justify_items": null,
            "grid_row": null,
            "max_height": null,
            "align_content": null,
            "visibility": null,
            "overflow": null,
            "height": null,
            "min_height": null,
            "padding": null,
            "grid_auto_rows": null,
            "grid_gap": null,
            "overflow_y": null,
            "max_width": null,
            "order": null,
            "_view_module_version": "1.2.0",
            "align_self": null,
            "grid_template_areas": null,
            "object_position": null,
            "object_fit": null,
            "grid_auto_columns": null,
            "margin": null,
            "display": null,
            "left": null
          }
        },
        "b4b00523320b4962a8097ca6c38824b3": {
          "model_module": "@jupyter-widgets/controls",
          "model_name": "DescriptionStyleModel",
          "state": {
            "_view_name": "StyleView",
            "_model_name": "DescriptionStyleModel",
            "description_width": "",
            "_view_module": "@jupyter-widgets/base",
            "_model_module_version": "1.5.0",
            "_view_count": null,
            "_view_module_version": "1.2.0",
            "_model_module": "@jupyter-widgets/controls"
          }
        },
        "9a6980ac0ebe44d7b41a39125a960403": {
          "model_module": "@jupyter-widgets/base",
          "model_name": "LayoutModel",
          "state": {
            "_view_name": "LayoutView",
            "grid_template_rows": null,
            "right": null,
            "justify_content": null,
            "_view_module": "@jupyter-widgets/base",
            "_model_module_version": "1.2.0",
            "_view_count": null,
            "flex_flow": null,
            "min_width": null,
            "border": null,
            "align_items": null,
            "bottom": null,
            "_model_module": "@jupyter-widgets/base",
            "top": null,
            "grid_column": null,
            "width": null,
            "overflow_x": null,
            "grid_auto_flow": null,
            "grid_area": null,
            "grid_template_columns": null,
            "flex": null,
            "_model_name": "LayoutModel",
            "justify_items": null,
            "grid_row": null,
            "max_height": null,
            "align_content": null,
            "visibility": null,
            "overflow": null,
            "height": null,
            "min_height": null,
            "padding": null,
            "grid_auto_rows": null,
            "grid_gap": null,
            "overflow_y": null,
            "max_width": null,
            "order": null,
            "_view_module_version": "1.2.0",
            "align_self": null,
            "grid_template_areas": null,
            "object_position": null,
            "object_fit": null,
            "grid_auto_columns": null,
            "margin": null,
            "display": null,
            "left": null
          }
        },
        "67302d5e32954b8096c8e429cc3868a6": {
          "model_module": "@jupyter-widgets/controls",
          "model_name": "HBoxModel",
          "state": {
            "_view_name": "HBoxView",
            "_dom_classes": [],
            "_model_name": "HBoxModel",
            "_view_module": "@jupyter-widgets/controls",
            "_model_module_version": "1.5.0",
            "_view_count": null,
            "_view_module_version": "1.5.0",
            "box_style": "",
            "layout": "IPY_MODEL_90435ad1d36e4393afdd9f86f8770435",
            "_model_module": "@jupyter-widgets/controls",
            "children": [
              "IPY_MODEL_45c45c3511d24b60a309c849b720629b",
              "IPY_MODEL_f02a498796624b74abfc1117863c3404"
            ]
          }
        },
        "90435ad1d36e4393afdd9f86f8770435": {
          "model_module": "@jupyter-widgets/base",
          "model_name": "LayoutModel",
          "state": {
            "_view_name": "LayoutView",
            "grid_template_rows": null,
            "right": null,
            "justify_content": null,
            "_view_module": "@jupyter-widgets/base",
            "_model_module_version": "1.2.0",
            "_view_count": null,
            "flex_flow": null,
            "min_width": null,
            "border": null,
            "align_items": null,
            "bottom": null,
            "_model_module": "@jupyter-widgets/base",
            "top": null,
            "grid_column": null,
            "width": null,
            "overflow_x": null,
            "grid_auto_flow": null,
            "grid_area": null,
            "grid_template_columns": null,
            "flex": null,
            "_model_name": "LayoutModel",
            "justify_items": null,
            "grid_row": null,
            "max_height": null,
            "align_content": null,
            "visibility": null,
            "overflow": null,
            "height": null,
            "min_height": null,
            "padding": null,
            "grid_auto_rows": null,
            "grid_gap": null,
            "overflow_y": null,
            "max_width": null,
            "order": null,
            "_view_module_version": "1.2.0",
            "align_self": null,
            "grid_template_areas": null,
            "object_position": null,
            "object_fit": null,
            "grid_auto_columns": null,
            "margin": null,
            "display": null,
            "left": null
          }
        },
        "45c45c3511d24b60a309c849b720629b": {
          "model_module": "@jupyter-widgets/controls",
          "model_name": "IntProgressModel",
          "state": {
            "_view_name": "ProgressView",
            "style": "IPY_MODEL_5bccbbee211446468d56d147a70d5d6a",
            "_view_module": "@jupyter-widgets/controls",
            "_dom_classes": [],
            "orientation": "horizontal",
            "min": 0,
            "bar_style": "info",
            "max": 1,
            "_model_name": "IntProgressModel",
            "_model_module_version": "1.5.0",
            "value": 1,
            "_view_count": null,
            "_view_module_version": "1.5.0",
            "description_tooltip": null,
            "_model_module": "@jupyter-widgets/controls",
            "layout": "IPY_MODEL_c69533d280714e2e8bab33f30208f433",
            "description": ""
          }
        },
        "f02a498796624b74abfc1117863c3404": {
          "model_module": "@jupyter-widgets/controls",
          "model_name": "HTMLModel",
          "state": {
            "_view_name": "HTMLView",
            "style": "IPY_MODEL_5147a53db4b848d0aae8dfdd74e75bf7",
            "_dom_classes": [],
            "description": "",
            "_model_name": "HTMLModel",
            "placeholder": "​",
            "_view_module": "@jupyter-widgets/controls",
            "_model_module_version": "1.5.0",
            "value": "32768it [00:11, 87472.76it/s]",
            "_view_count": null,
            "_view_module_version": "1.5.0",
            "description_tooltip": null,
            "_model_module": "@jupyter-widgets/controls",
            "layout": "IPY_MODEL_207aaeb25a2d4e49bb76a93684523dcd"
          }
        },
        "5bccbbee211446468d56d147a70d5d6a": {
          "model_module": "@jupyter-widgets/controls",
          "model_name": "ProgressStyleModel",
          "state": {
            "_view_name": "StyleView",
            "_model_name": "ProgressStyleModel",
            "description_width": "",
            "_view_module": "@jupyter-widgets/base",
            "_model_module_version": "1.5.0",
            "_view_count": null,
            "_view_module_version": "1.2.0",
            "bar_color": null,
            "_model_module": "@jupyter-widgets/controls"
          }
        },
        "c69533d280714e2e8bab33f30208f433": {
          "model_module": "@jupyter-widgets/base",
          "model_name": "LayoutModel",
          "state": {
            "_view_name": "LayoutView",
            "grid_template_rows": null,
            "right": null,
            "justify_content": null,
            "_view_module": "@jupyter-widgets/base",
            "_model_module_version": "1.2.0",
            "_view_count": null,
            "flex_flow": null,
            "min_width": null,
            "border": null,
            "align_items": null,
            "bottom": null,
            "_model_module": "@jupyter-widgets/base",
            "top": null,
            "grid_column": null,
            "width": null,
            "overflow_x": null,
            "grid_auto_flow": null,
            "grid_area": null,
            "grid_template_columns": null,
            "flex": null,
            "_model_name": "LayoutModel",
            "justify_items": null,
            "grid_row": null,
            "max_height": null,
            "align_content": null,
            "visibility": null,
            "overflow": null,
            "height": null,
            "min_height": null,
            "padding": null,
            "grid_auto_rows": null,
            "grid_gap": null,
            "overflow_y": null,
            "max_width": null,
            "order": null,
            "_view_module_version": "1.2.0",
            "align_self": null,
            "grid_template_areas": null,
            "object_position": null,
            "object_fit": null,
            "grid_auto_columns": null,
            "margin": null,
            "display": null,
            "left": null
          }
        },
        "5147a53db4b848d0aae8dfdd74e75bf7": {
          "model_module": "@jupyter-widgets/controls",
          "model_name": "DescriptionStyleModel",
          "state": {
            "_view_name": "StyleView",
            "_model_name": "DescriptionStyleModel",
            "description_width": "",
            "_view_module": "@jupyter-widgets/base",
            "_model_module_version": "1.5.0",
            "_view_count": null,
            "_view_module_version": "1.2.0",
            "_model_module": "@jupyter-widgets/controls"
          }
        },
        "207aaeb25a2d4e49bb76a93684523dcd": {
          "model_module": "@jupyter-widgets/base",
          "model_name": "LayoutModel",
          "state": {
            "_view_name": "LayoutView",
            "grid_template_rows": null,
            "right": null,
            "justify_content": null,
            "_view_module": "@jupyter-widgets/base",
            "_model_module_version": "1.2.0",
            "_view_count": null,
            "flex_flow": null,
            "min_width": null,
            "border": null,
            "align_items": null,
            "bottom": null,
            "_model_module": "@jupyter-widgets/base",
            "top": null,
            "grid_column": null,
            "width": null,
            "overflow_x": null,
            "grid_auto_flow": null,
            "grid_area": null,
            "grid_template_columns": null,
            "flex": null,
            "_model_name": "LayoutModel",
            "justify_items": null,
            "grid_row": null,
            "max_height": null,
            "align_content": null,
            "visibility": null,
            "overflow": null,
            "height": null,
            "min_height": null,
            "padding": null,
            "grid_auto_rows": null,
            "grid_gap": null,
            "overflow_y": null,
            "max_width": null,
            "order": null,
            "_view_module_version": "1.2.0",
            "align_self": null,
            "grid_template_areas": null,
            "object_position": null,
            "object_fit": null,
            "grid_auto_columns": null,
            "margin": null,
            "display": null,
            "left": null
          }
        },
        "66876b5dfed14840843feaca22e6cb14": {
          "model_module": "@jupyter-widgets/controls",
          "model_name": "HBoxModel",
          "state": {
            "_view_name": "HBoxView",
            "_dom_classes": [],
            "_model_name": "HBoxModel",
            "_view_module": "@jupyter-widgets/controls",
            "_model_module_version": "1.5.0",
            "_view_count": null,
            "_view_module_version": "1.5.0",
            "box_style": "",
            "layout": "IPY_MODEL_31b883ed4246453ca577db8a3e9f34cb",
            "_model_module": "@jupyter-widgets/controls",
            "children": [
              "IPY_MODEL_f904d5d71bd14053b06a460783f4f089",
              "IPY_MODEL_f9ece9ac19d546bfa899c63ab43cd964"
            ]
          }
        },
        "31b883ed4246453ca577db8a3e9f34cb": {
          "model_module": "@jupyter-widgets/base",
          "model_name": "LayoutModel",
          "state": {
            "_view_name": "LayoutView",
            "grid_template_rows": null,
            "right": null,
            "justify_content": null,
            "_view_module": "@jupyter-widgets/base",
            "_model_module_version": "1.2.0",
            "_view_count": null,
            "flex_flow": null,
            "min_width": null,
            "border": null,
            "align_items": null,
            "bottom": null,
            "_model_module": "@jupyter-widgets/base",
            "top": null,
            "grid_column": null,
            "width": null,
            "overflow_x": null,
            "grid_auto_flow": null,
            "grid_area": null,
            "grid_template_columns": null,
            "flex": null,
            "_model_name": "LayoutModel",
            "justify_items": null,
            "grid_row": null,
            "max_height": null,
            "align_content": null,
            "visibility": null,
            "overflow": null,
            "height": null,
            "min_height": null,
            "padding": null,
            "grid_auto_rows": null,
            "grid_gap": null,
            "overflow_y": null,
            "max_width": null,
            "order": null,
            "_view_module_version": "1.2.0",
            "align_self": null,
            "grid_template_areas": null,
            "object_position": null,
            "object_fit": null,
            "grid_auto_columns": null,
            "margin": null,
            "display": null,
            "left": null
          }
        },
        "f904d5d71bd14053b06a460783f4f089": {
          "model_module": "@jupyter-widgets/controls",
          "model_name": "IntProgressModel",
          "state": {
            "_view_name": "ProgressView",
            "style": "IPY_MODEL_f45de2456f8f48c58dff0b14dd788bbb",
            "_view_module": "@jupyter-widgets/controls",
            "_dom_classes": [],
            "orientation": "horizontal",
            "min": 0,
            "bar_style": "info",
            "max": 1,
            "_model_name": "IntProgressModel",
            "_model_module_version": "1.5.0",
            "value": 1,
            "_view_count": null,
            "_view_module_version": "1.5.0",
            "description_tooltip": null,
            "_model_module": "@jupyter-widgets/controls",
            "layout": "IPY_MODEL_689f29133b9e4cf4b50ab1bcdbbadbe5",
            "description": ""
          }
        },
        "f9ece9ac19d546bfa899c63ab43cd964": {
          "model_module": "@jupyter-widgets/controls",
          "model_name": "HTMLModel",
          "state": {
            "_view_name": "HTMLView",
            "style": "IPY_MODEL_e502500d4c6743639dd52707e5ceffcd",
            "_dom_classes": [],
            "description": "",
            "_model_name": "HTMLModel",
            "placeholder": "​",
            "_view_module": "@jupyter-widgets/controls",
            "_model_module_version": "1.5.0",
            "value": "1654784it [01:00, 33940.79it/s]",
            "_view_count": null,
            "_view_module_version": "1.5.0",
            "description_tooltip": null,
            "_model_module": "@jupyter-widgets/controls",
            "layout": "IPY_MODEL_849f12f7375a454991f6f4d904032dee"
          }
        },
        "f45de2456f8f48c58dff0b14dd788bbb": {
          "model_module": "@jupyter-widgets/controls",
          "model_name": "ProgressStyleModel",
          "state": {
            "_view_name": "StyleView",
            "_model_name": "ProgressStyleModel",
            "description_width": "",
            "_view_module": "@jupyter-widgets/base",
            "_model_module_version": "1.5.0",
            "_view_count": null,
            "_view_module_version": "1.2.0",
            "bar_color": null,
            "_model_module": "@jupyter-widgets/controls"
          }
        },
        "689f29133b9e4cf4b50ab1bcdbbadbe5": {
          "model_module": "@jupyter-widgets/base",
          "model_name": "LayoutModel",
          "state": {
            "_view_name": "LayoutView",
            "grid_template_rows": null,
            "right": null,
            "justify_content": null,
            "_view_module": "@jupyter-widgets/base",
            "_model_module_version": "1.2.0",
            "_view_count": null,
            "flex_flow": null,
            "min_width": null,
            "border": null,
            "align_items": null,
            "bottom": null,
            "_model_module": "@jupyter-widgets/base",
            "top": null,
            "grid_column": null,
            "width": null,
            "overflow_x": null,
            "grid_auto_flow": null,
            "grid_area": null,
            "grid_template_columns": null,
            "flex": null,
            "_model_name": "LayoutModel",
            "justify_items": null,
            "grid_row": null,
            "max_height": null,
            "align_content": null,
            "visibility": null,
            "overflow": null,
            "height": null,
            "min_height": null,
            "padding": null,
            "grid_auto_rows": null,
            "grid_gap": null,
            "overflow_y": null,
            "max_width": null,
            "order": null,
            "_view_module_version": "1.2.0",
            "align_self": null,
            "grid_template_areas": null,
            "object_position": null,
            "object_fit": null,
            "grid_auto_columns": null,
            "margin": null,
            "display": null,
            "left": null
          }
        },
        "e502500d4c6743639dd52707e5ceffcd": {
          "model_module": "@jupyter-widgets/controls",
          "model_name": "DescriptionStyleModel",
          "state": {
            "_view_name": "StyleView",
            "_model_name": "DescriptionStyleModel",
            "description_width": "",
            "_view_module": "@jupyter-widgets/base",
            "_model_module_version": "1.5.0",
            "_view_count": null,
            "_view_module_version": "1.2.0",
            "_model_module": "@jupyter-widgets/controls"
          }
        },
        "849f12f7375a454991f6f4d904032dee": {
          "model_module": "@jupyter-widgets/base",
          "model_name": "LayoutModel",
          "state": {
            "_view_name": "LayoutView",
            "grid_template_rows": null,
            "right": null,
            "justify_content": null,
            "_view_module": "@jupyter-widgets/base",
            "_model_module_version": "1.2.0",
            "_view_count": null,
            "flex_flow": null,
            "min_width": null,
            "border": null,
            "align_items": null,
            "bottom": null,
            "_model_module": "@jupyter-widgets/base",
            "top": null,
            "grid_column": null,
            "width": null,
            "overflow_x": null,
            "grid_auto_flow": null,
            "grid_area": null,
            "grid_template_columns": null,
            "flex": null,
            "_model_name": "LayoutModel",
            "justify_items": null,
            "grid_row": null,
            "max_height": null,
            "align_content": null,
            "visibility": null,
            "overflow": null,
            "height": null,
            "min_height": null,
            "padding": null,
            "grid_auto_rows": null,
            "grid_gap": null,
            "overflow_y": null,
            "max_width": null,
            "order": null,
            "_view_module_version": "1.2.0",
            "align_self": null,
            "grid_template_areas": null,
            "object_position": null,
            "object_fit": null,
            "grid_auto_columns": null,
            "margin": null,
            "display": null,
            "left": null
          }
        },
        "c3e6baa5b23640ed823e6556d034cb33": {
          "model_module": "@jupyter-widgets/controls",
          "model_name": "HBoxModel",
          "state": {
            "_view_name": "HBoxView",
            "_dom_classes": [],
            "_model_name": "HBoxModel",
            "_view_module": "@jupyter-widgets/controls",
            "_model_module_version": "1.5.0",
            "_view_count": null,
            "_view_module_version": "1.5.0",
            "box_style": "",
            "layout": "IPY_MODEL_22d34442ea16434b93264187b1a84c87",
            "_model_module": "@jupyter-widgets/controls",
            "children": [
              "IPY_MODEL_8616942a5da34b6ba8b4b31c6fa254c3",
              "IPY_MODEL_d64d79b6045b4e7c9c2b681064a3eeff"
            ]
          }
        },
        "22d34442ea16434b93264187b1a84c87": {
          "model_module": "@jupyter-widgets/base",
          "model_name": "LayoutModel",
          "state": {
            "_view_name": "LayoutView",
            "grid_template_rows": null,
            "right": null,
            "justify_content": null,
            "_view_module": "@jupyter-widgets/base",
            "_model_module_version": "1.2.0",
            "_view_count": null,
            "flex_flow": null,
            "min_width": null,
            "border": null,
            "align_items": null,
            "bottom": null,
            "_model_module": "@jupyter-widgets/base",
            "top": null,
            "grid_column": null,
            "width": null,
            "overflow_x": null,
            "grid_auto_flow": null,
            "grid_area": null,
            "grid_template_columns": null,
            "flex": null,
            "_model_name": "LayoutModel",
            "justify_items": null,
            "grid_row": null,
            "max_height": null,
            "align_content": null,
            "visibility": null,
            "overflow": null,
            "height": null,
            "min_height": null,
            "padding": null,
            "grid_auto_rows": null,
            "grid_gap": null,
            "overflow_y": null,
            "max_width": null,
            "order": null,
            "_view_module_version": "1.2.0",
            "align_self": null,
            "grid_template_areas": null,
            "object_position": null,
            "object_fit": null,
            "grid_auto_columns": null,
            "margin": null,
            "display": null,
            "left": null
          }
        },
        "8616942a5da34b6ba8b4b31c6fa254c3": {
          "model_module": "@jupyter-widgets/controls",
          "model_name": "IntProgressModel",
          "state": {
            "_view_name": "ProgressView",
            "style": "IPY_MODEL_9bfff35775814a558378a255a3b53b42",
            "_view_module": "@jupyter-widgets/controls",
            "_dom_classes": [],
            "orientation": "horizontal",
            "min": 0,
            "bar_style": "success",
            "max": 1,
            "_model_name": "IntProgressModel",
            "_model_module_version": "1.5.0",
            "value": 1,
            "_view_count": null,
            "_view_module_version": "1.5.0",
            "description_tooltip": null,
            "_model_module": "@jupyter-widgets/controls",
            "layout": "IPY_MODEL_118f4226f5cf43a396f30f163cfdbafd",
            "description": ""
          }
        },
        "d64d79b6045b4e7c9c2b681064a3eeff": {
          "model_module": "@jupyter-widgets/controls",
          "model_name": "HTMLModel",
          "state": {
            "_view_name": "HTMLView",
            "style": "IPY_MODEL_d61b0c738314414786eb66e0d46c8635",
            "_dom_classes": [],
            "description": "",
            "_model_name": "HTMLModel",
            "placeholder": "​",
            "_view_module": "@jupyter-widgets/controls",
            "_model_module_version": "1.5.0",
            "value": "8192it [00:00, 16095.00it/s]",
            "_view_count": null,
            "_view_module_version": "1.5.0",
            "description_tooltip": null,
            "_model_module": "@jupyter-widgets/controls",
            "layout": "IPY_MODEL_0952d81ba23749728c914eb8f1b348ea"
          }
        },
        "9bfff35775814a558378a255a3b53b42": {
          "model_module": "@jupyter-widgets/controls",
          "model_name": "ProgressStyleModel",
          "state": {
            "_view_name": "StyleView",
            "_model_name": "ProgressStyleModel",
            "description_width": "",
            "_view_module": "@jupyter-widgets/base",
            "_model_module_version": "1.5.0",
            "_view_count": null,
            "_view_module_version": "1.2.0",
            "bar_color": null,
            "_model_module": "@jupyter-widgets/controls"
          }
        },
        "118f4226f5cf43a396f30f163cfdbafd": {
          "model_module": "@jupyter-widgets/base",
          "model_name": "LayoutModel",
          "state": {
            "_view_name": "LayoutView",
            "grid_template_rows": null,
            "right": null,
            "justify_content": null,
            "_view_module": "@jupyter-widgets/base",
            "_model_module_version": "1.2.0",
            "_view_count": null,
            "flex_flow": null,
            "min_width": null,
            "border": null,
            "align_items": null,
            "bottom": null,
            "_model_module": "@jupyter-widgets/base",
            "top": null,
            "grid_column": null,
            "width": null,
            "overflow_x": null,
            "grid_auto_flow": null,
            "grid_area": null,
            "grid_template_columns": null,
            "flex": null,
            "_model_name": "LayoutModel",
            "justify_items": null,
            "grid_row": null,
            "max_height": null,
            "align_content": null,
            "visibility": null,
            "overflow": null,
            "height": null,
            "min_height": null,
            "padding": null,
            "grid_auto_rows": null,
            "grid_gap": null,
            "overflow_y": null,
            "max_width": null,
            "order": null,
            "_view_module_version": "1.2.0",
            "align_self": null,
            "grid_template_areas": null,
            "object_position": null,
            "object_fit": null,
            "grid_auto_columns": null,
            "margin": null,
            "display": null,
            "left": null
          }
        },
        "d61b0c738314414786eb66e0d46c8635": {
          "model_module": "@jupyter-widgets/controls",
          "model_name": "DescriptionStyleModel",
          "state": {
            "_view_name": "StyleView",
            "_model_name": "DescriptionStyleModel",
            "description_width": "",
            "_view_module": "@jupyter-widgets/base",
            "_model_module_version": "1.5.0",
            "_view_count": null,
            "_view_module_version": "1.2.0",
            "_model_module": "@jupyter-widgets/controls"
          }
        },
        "0952d81ba23749728c914eb8f1b348ea": {
          "model_module": "@jupyter-widgets/base",
          "model_name": "LayoutModel",
          "state": {
            "_view_name": "LayoutView",
            "grid_template_rows": null,
            "right": null,
            "justify_content": null,
            "_view_module": "@jupyter-widgets/base",
            "_model_module_version": "1.2.0",
            "_view_count": null,
            "flex_flow": null,
            "min_width": null,
            "border": null,
            "align_items": null,
            "bottom": null,
            "_model_module": "@jupyter-widgets/base",
            "top": null,
            "grid_column": null,
            "width": null,
            "overflow_x": null,
            "grid_auto_flow": null,
            "grid_area": null,
            "grid_template_columns": null,
            "flex": null,
            "_model_name": "LayoutModel",
            "justify_items": null,
            "grid_row": null,
            "max_height": null,
            "align_content": null,
            "visibility": null,
            "overflow": null,
            "height": null,
            "min_height": null,
            "padding": null,
            "grid_auto_rows": null,
            "grid_gap": null,
            "overflow_y": null,
            "max_width": null,
            "order": null,
            "_view_module_version": "1.2.0",
            "align_self": null,
            "grid_template_areas": null,
            "object_position": null,
            "object_fit": null,
            "grid_auto_columns": null,
            "margin": null,
            "display": null,
            "left": null
          }
        }
      }
    }
  },
  "cells": [
    {
      "cell_type": "markdown",
      "metadata": {
        "id": "MJejm-ZRMB0x"
      },
      "source": [
        "# LeNet-5\n",
        "In this homework you will use PyTorch to build and train a convolutional network. You are asked to implement the a modified LeNet-5 for MINIST digits classification. Different from the original LeNet-5, in this notebook we use max instead of average pooling, and use fully connected instead of gaussian final layer."
      ]
    },
    {
      "cell_type": "code",
      "metadata": {
        "id": "4rPoZrLgMB0y"
      },
      "source": [
        "import torch\n",
        "import torch.nn as nn\n",
        "import torch.optim as optim\n",
        "from torch.nn import functional\n",
        "import torchvision\n",
        "import numpy as np\n",
        "import matplotlib.pyplot as plt\n",
        "import time\n",
        "from IPython import display"
      ],
      "execution_count": 6,
      "outputs": []
    },
    {
      "cell_type": "code",
      "metadata": {
        "id": "2YIzSTkMMB02"
      },
      "source": [
        "# grayscale and inline plotting\n",
        "%matplotlib inline\n",
        "plt.rcParams['image.cmap'] = 'gray'"
      ],
      "execution_count": 2,
      "outputs": []
    },
    {
      "cell_type": "markdown",
      "metadata": {
        "id": "HI2cHk8zufts"
      },
      "source": [
        "## Visualization tools"
      ]
    },
    {
      "cell_type": "code",
      "metadata": {
        "id": "FCkbK86VMB07"
      },
      "source": [
        "def plot_image(image):\n",
        "    nr, nc = image.shape\n",
        "    extent = [-0.5, nc - 0.5, nr - 0.5, -0.5]\n",
        "    plt.imshow(image, extent=extent, origin='upper', interpolation='nearest')\n",
        "\n",
        "def visualize(t, loss, errcl, x5, x4, x3, x0, w1):\n",
        "\n",
        "    loss_avg = np.divide(\n",
        "        np.cumsum(loss[: t + 1]),\n",
        "        range(1, t + 2)\n",
        "    )\n",
        "\n",
        "    errcl_avg = np.divide(\n",
        "        np.cumsum(errcl[: t + 1]),\n",
        "        range(1, t + 2)\n",
        "    )\n",
        "\n",
        "    n_last_batches = np.min([20, t])\n",
        "    k = np.ones(n_last_batches * 2 + 1) / (n_last_batches + 1)\n",
        "    k[:n_last_batches] = 0\n",
        "    \n",
        "    errcl_sm = np.convolve(np.pad(errcl, mode=\"edge\", pad_width=n_last_batches), k, mode=\"valid\")\n",
        "    errcl_sm = errcl_sm[: len(errcl_avg)]\n",
        "\n",
        "    loss_sm = np.convolve(np.pad(loss, mode=\"edge\", pad_width=n_last_batches), k, mode=\"valid\")\n",
        "    loss_sm = loss_sm[: len(loss)]\n",
        "\n",
        "    display.clear_output(wait=True)\n",
        "\n",
        "    plt.subplot(4, 3, 1)\n",
        "    plt.plot(loss, label=\"loss\")\n",
        "    plt.plot(loss_sm, label=\"smothed loss\")\n",
        "    plt.plot(loss_avg, label=\"avg loss\")\n",
        "    plt.legend()\n",
        "    plt.ylim(0, np.max(loss)*1.05)\n",
        "    plt.title(\"loss: avg - %.4f, smoothed - %.4f, current - %.4f\"  % (loss_avg[t], loss_sm[t], loss[t]))\n",
        "\n",
        "    plt.subplot(4, 3, 2)\n",
        "    plt.plot(errcl, label=\"cl err\")\n",
        "    plt.plot(errcl_sm, label=\"smothed cl err\")\n",
        "    plt.plot(errcl_avg, label=\"avg cl err\")\n",
        "    plt.legend()\n",
        "    plt.ylim(0, np.max(errcl)*1.05)\n",
        "    plt.title(\"cl error: avg - %.4f, smoothed - %.4f, current - %.4f\"  % (errcl_avg[t], errcl_sm[t], errcl[t]))\n",
        "    \n",
        "    plt.subplot(4, 3, 3)\n",
        "    plt.bar(range(len(x5)), x5)\n",
        "    plt.title(\"class confidences\")\n",
        "\n",
        "    plt.subplot(4,3,4)\n",
        "    plt.hist(x4)\n",
        "    plt.title(\"F6 activations\")\n",
        "\n",
        "    plt.subplot(4,3,5)\n",
        "    plt.hist(x3)\n",
        "    plt.title(\"C5 activations\")\n",
        "\n",
        "    plt.subplot(4,3,6)\n",
        "    plot_image(x0)\n",
        "    plt.title(\"input image\")\n",
        "\n",
        "    for i in range(w1.shape[0]):\n",
        "        plt.subplot(4,3,7+i)\n",
        "        plot_image(w1[i])\n",
        "        plt.title(\"C1 kernel channel \" + str(i))\n",
        "\n",
        "    plt.subplots_adjust(wspace=0.5)\n",
        "    plt.subplots_adjust(hspace=0.5)\n",
        "    plt.gcf().set_size_inches(18.5, 10.5)\n",
        "    display.display(plt.gcf())"
      ],
      "execution_count": 3,
      "outputs": []
    },
    {
      "cell_type": "markdown",
      "metadata": {
        "id": "cWBhNjnKul-6"
      },
      "source": [
        "## Data Preparation"
      ]
    },
    {
      "cell_type": "code",
      "metadata": {
        "id": "gc7hIpVjuZG3",
        "colab": {
          "base_uri": "https://localhost:8080/",
          "height": 346,
          "referenced_widgets": [
            "c7b2ee179534449baf20e32bd214c5ff",
            "87aa7f82a7a44f3d9d13b1222be25130",
            "4c07794eac8b4d6a803980d3a7e550a6",
            "3c419a71693f4d5c9dcd3b8165732662",
            "0d90b75a156f472781d662efd05bc55b",
            "ebfab1d4a13c45e9b1ae53a056088c46",
            "b4b00523320b4962a8097ca6c38824b3",
            "9a6980ac0ebe44d7b41a39125a960403",
            "67302d5e32954b8096c8e429cc3868a6",
            "90435ad1d36e4393afdd9f86f8770435",
            "45c45c3511d24b60a309c849b720629b",
            "f02a498796624b74abfc1117863c3404",
            "5bccbbee211446468d56d147a70d5d6a",
            "c69533d280714e2e8bab33f30208f433",
            "5147a53db4b848d0aae8dfdd74e75bf7",
            "207aaeb25a2d4e49bb76a93684523dcd",
            "66876b5dfed14840843feaca22e6cb14",
            "31b883ed4246453ca577db8a3e9f34cb",
            "f904d5d71bd14053b06a460783f4f089",
            "f9ece9ac19d546bfa899c63ab43cd964",
            "f45de2456f8f48c58dff0b14dd788bbb",
            "689f29133b9e4cf4b50ab1bcdbbadbe5",
            "e502500d4c6743639dd52707e5ceffcd",
            "849f12f7375a454991f6f4d904032dee",
            "c3e6baa5b23640ed823e6556d034cb33",
            "22d34442ea16434b93264187b1a84c87",
            "8616942a5da34b6ba8b4b31c6fa254c3",
            "d64d79b6045b4e7c9c2b681064a3eeff",
            "9bfff35775814a558378a255a3b53b42",
            "118f4226f5cf43a396f30f163cfdbafd",
            "d61b0c738314414786eb66e0d46c8635",
            "0952d81ba23749728c914eb8f1b348ea"
          ]
        },
        "outputId": "dfddcc57-53a4-44c7-e7c6-8a33d1cd3118"
      },
      "source": [
        "# get data\n",
        "'''\n",
        "import urllib\n",
        "try:\n",
        "    # For python 2\n",
        "    class AppURLopener(urllib.FancyURLopener):\n",
        "        version = \"Mozilla/5.0\"\n",
        "\n",
        "    urllib._urlopener = AppURLopener()\n",
        "except AttributeError:\n",
        "    # For python 3\n",
        "    opener = urllib.request.build_opener()\n",
        "    opener.addheaders = [('User-agent', 'Mozilla/5.0')]\n",
        "    urllib.request.install_opener(opener)\n",
        "'''\n",
        "mnist = torchvision.datasets.MNIST(root='./data', train=True, download=True) # train data only\n",
        "trainimages = mnist.data\n",
        "trainlabels = mnist.targets\n",
        "\n",
        "# check training data shape\n",
        "print \"Training Data shape is: \", list(trainimages.size())\n",
        "print \"Training Target shape is: \", list(trainlabels.size())"
      ],
      "execution_count": 15,
      "outputs": [
        {
          "output_type": "stream",
          "text": [
            "Downloading http://yann.lecun.com/exdb/mnist/train-images-idx3-ubyte.gz to ./data/MNIST/raw/train-images-idx3-ubyte.gz\n"
          ],
          "name": "stdout"
        },
        {
          "output_type": "display_data",
          "data": {
            "application/vnd.jupyter.widget-view+json": {
              "model_id": "c7b2ee179534449baf20e32bd214c5ff",
              "version_minor": 0,
              "version_major": 2
            },
            "text/plain": [
              "HBox(children=(IntProgress(value=1, bar_style=u'info', max=1), HTML(value=u'')))"
            ]
          },
          "metadata": {
            "tags": []
          }
        },
        {
          "output_type": "stream",
          "text": [
            "Extracting ./data/MNIST/raw/train-images-idx3-ubyte.gz to ./data/MNIST/raw\n",
            "Downloading http://yann.lecun.com/exdb/mnist/train-labels-idx1-ubyte.gz to ./data/MNIST/raw/train-labels-idx1-ubyte.gz\n"
          ],
          "name": "stdout"
        },
        {
          "output_type": "display_data",
          "data": {
            "application/vnd.jupyter.widget-view+json": {
              "model_id": "67302d5e32954b8096c8e429cc3868a6",
              "version_minor": 0,
              "version_major": 2
            },
            "text/plain": [
              "HBox(children=(IntProgress(value=1, bar_style=u'info', max=1), HTML(value=u'')))"
            ]
          },
          "metadata": {
            "tags": []
          }
        },
        {
          "output_type": "stream",
          "text": [
            "Extracting ./data/MNIST/raw/train-labels-idx1-ubyte.gz to ./data/MNIST/raw\n",
            "Downloading http://yann.lecun.com/exdb/mnist/t10k-images-idx3-ubyte.gz to ./data/MNIST/raw/t10k-images-idx3-ubyte.gz\n"
          ],
          "name": "stdout"
        },
        {
          "output_type": "display_data",
          "data": {
            "application/vnd.jupyter.widget-view+json": {
              "model_id": "66876b5dfed14840843feaca22e6cb14",
              "version_minor": 0,
              "version_major": 2
            },
            "text/plain": [
              "HBox(children=(IntProgress(value=1, bar_style=u'info', max=1), HTML(value=u'')))"
            ]
          },
          "metadata": {
            "tags": []
          }
        },
        {
          "output_type": "stream",
          "text": [
            "Extracting ./data/MNIST/raw/t10k-images-idx3-ubyte.gz to ./data/MNIST/raw\n",
            "Downloading http://yann.lecun.com/exdb/mnist/t10k-labels-idx1-ubyte.gz to ./data/MNIST/raw/t10k-labels-idx1-ubyte.gz\n"
          ],
          "name": "stdout"
        },
        {
          "output_type": "display_data",
          "data": {
            "application/vnd.jupyter.widget-view+json": {
              "model_id": "c3e6baa5b23640ed823e6556d034cb33",
              "version_minor": 0,
              "version_major": 2
            },
            "text/plain": [
              "HBox(children=(IntProgress(value=1, bar_style=u'info', max=1), HTML(value=u'')))"
            ]
          },
          "metadata": {
            "tags": []
          }
        },
        {
          "output_type": "stream",
          "text": [
            "Extracting ./data/MNIST/raw/t10k-labels-idx1-ubyte.gz to ./data/MNIST/raw\n",
            "Processing...\n",
            "Done!\n",
            "Training Data shape is:  [60000, 28, 28]\n",
            "Training Target shape is:  [60000]\n"
          ],
          "name": "stdout"
        }
      ]
    },
    {
      "cell_type": "markdown",
      "metadata": {
        "id": "NfsxXO4RxgLC"
      },
      "source": [
        "## LeNet-5 Architecture\n",
        "\n",
        "![Original Architecture of LeNet-5](https://miro.medium.com/max/4308/1*1TI1aGBZ4dybR6__DI9dzA.png)\n",
        "\n",
        "The original architecture of LeNet-5. In this homework, we use max instead of average pooling for subsampling, and use fully connected instead of gaussian final layer. "
      ]
    },
    {
      "cell_type": "markdown",
      "metadata": {
        "id": "tNfECWDixOHI"
      },
      "source": [
        "## PyTorch Implementation\n",
        "\n",
        "Please complete the definition of layers and forward pass in the following starter code."
      ]
    },
    {
      "cell_type": "code",
      "metadata": {
        "id": "EzJHjxSVMB1H"
      },
      "source": [
        "class LeNet5(nn.Module):\n",
        "\n",
        "    # definition of each neural network layer\n",
        "    def __init__(self):\n",
        "        super(LeNet5, self).__init__()\n",
        "        self.C1 = nn.Conv2d(1, 6, kernel_size=(5, 5))\n",
        "        self.S2 = nn.MaxPool2d(kernel_size=(2, 2), stride=2)\n",
        "\n",
        "        ####### Complete the defition of C3 and S4 ##########\n",
        "        # C3 is a convolutional layer with 16 5x5 kernels\n",
        "        # S4 is a max pooling layer with 2x2 kernel and stride 2\n",
        "\n",
        "        self.C3 = nn.Conv2d(6,16,kernel_size=(5,5))\n",
        "        self.S4 = nn.MaxPool2d(kernel_size=(2,2), stride=2) \n",
        "        \n",
        "        #####################################################\n",
        "\n",
        "        self.C5 = nn.Conv2d(16, 120, kernel_size=(5, 5))\n",
        "        self.F6 = nn.Linear(120, 84)\n",
        "\n",
        "        # output layer\n",
        "        self.OL = nn.Linear(84, 10)\n",
        "        \n",
        "        # record C5 & F6 activation for visualization\n",
        "        self.record = {\"C5\":None, \"F6\":None}\n",
        "\n",
        "    # definition of the forward pass\n",
        "    def forward(self, x):\n",
        "        \n",
        "        # input x are (batch, 1, 32, 32) grayscale images\n",
        "        # the first convolutional layer C1 with 6 kernels size 5×5 and a stride of 1\n",
        "        # output image size changes from (batch, 1, 32, 32) to (batch, 6, 28, 28)\n",
        "        # then pass the feature maps to the tanh activation function\n",
        "        x = torch.tanh(self.C1(x))\n",
        "\n",
        "        # pass the feature maps to a 2x2 max pooling layer S2 \n",
        "        # the output image dimension decreases halved -> (batch, 6, 14, 14)\n",
        "        x = self.S2(x)\n",
        "        \n",
        "        ####### Complete the foward pass C3 > S4 > C5 ###################################\n",
        "        # C3 is the second convolutional layer with 16 kernels size 5×5 and a stride of 1\n",
        "        # after C3, the output image size changes from (batch, 6, 14, 14) to (batch, 16, 10, 10)\n",
        "        # S4 is the second 2x2 pooling layer with strid 2\n",
        "        # after S4, the output image size changes from (batch, 16, 10, 10) to (batch, 16, 5, 5)\n",
        "        # C5 is the third convolutional layer with 120 kernels size 5×5 and a stride of 1\n",
        "        # after C5, the output image size changes from (batch, 16, 5, 5) to (batch, 120, 1, 1)\n",
        "        # C3, C5 is followed by tanh activations\n",
        "\n",
        "        x = torch.tanh(self.C3(x))\n",
        "        x = self.S4(x)\n",
        "        x = torch.tanh(self.C5(x))\n",
        "        ##################################################################################\n",
        "\n",
        "        # convert (batch, 120, 1, 1) feature maps to 1d features of size (batch, 120)\n",
        "        x = x.view(x.size(0), -1) \n",
        "        \n",
        "        # record the activation of C5 as a numpy array\n",
        "        # .detach() declares a tensor does not need gradients\n",
        "        # .numpy() convert a torch tensoer without gradient to numpy array\n",
        "        # independent of the forward pass, we have to make a copy of x by method .clone()\n",
        "        self.record[\"C5\"] = x.clone().detach().numpy()\n",
        "\n",
        "        # pass the activation to the fully connected layer F6 followed by a tanh activation\n",
        "        # output size changes from (batch, 120) to (batch, 86)\n",
        "        x = torch.tanh(self.F6(x))\n",
        "\n",
        "        # record the activat of F6 as numpy array\n",
        "        self.record[\"F6\"] = x.clone().detach().numpy()\n",
        "\n",
        "        # pass the activation to the final fully connected layer OL followed by a tanh activation\n",
        "        # output size changes from (batch, 86) to (batch, 10)\n",
        "        x = torch.tanh(self.OL(x))\n",
        "        \n",
        "        return x"
      ],
      "execution_count": 16,
      "outputs": []
    },
    {
      "cell_type": "markdown",
      "metadata": {
        "id": "TtyxZUX5f6_D"
      },
      "source": [
        "## Training with PyTorch\n",
        "\n",
        "Please read the following code carefully. Run the code to show that the learning curve goes down. (This code is written for pedagogical purposes, not efficiency.)"
      ]
    },
    {
      "cell_type": "code",
      "metadata": {
        "id": "XvEkHlUmMB1J",
        "colab": {
          "base_uri": "https://localhost:8080/",
          "height": 1000
        },
        "outputId": "0243706a-57a5-40b9-c15d-3f84c99b251d"
      },
      "source": [
        "ntrain = trainimages.shape[0];  # number of training examples\n",
        "nepoch = 10;                    # number of epochs through training set\n",
        "disp_freq = 100                 # display frequency\n",
        "batchsize = 32                  # minibatch size\n",
        "\n",
        "errs = []\n",
        "losses = []\n",
        "\n",
        "lenet5 = LeNet5()\n",
        "\n",
        "# use SGD optimizer, set learning rate parameter as 0.1\n",
        "optimizer = optim.SGD(lenet5.parameters(), lr=0.1)\n",
        "\n",
        "t_start = time.time()\n",
        "for iepoch in range(nepoch):\n",
        "    for t in range(int(ntrain / batchsize)):\n",
        "        batchindices = np.random.choice(ntrain, batchsize, replace=False)\n",
        "        trainlabels_iter = trainlabels[batchindices]\n",
        "        \n",
        "        # label 1 for the correct digit and -1 for the incorrect digits\n",
        "        y = torch.ones(10, batchsize) * (-1)\n",
        "        y[trainlabels_iter, torch.arange(batchsize, dtype=torch.int64)] = 1\n",
        "\n",
        "        # normalize input images\n",
        "        imgs = torch.zeros([batchsize, 1, 32, 32])\n",
        "        imgs[:, 0, 2: -2, 2: -2] = trainimages[batchindices].float() / 255.\n",
        "\n",
        "        # before the forward pass, clean the gradient buffers of all parameters\n",
        "        optimizer.zero_grad()\n",
        "\n",
        "        # forward pass\n",
        "        out = lenet5(imgs)\n",
        "        \n",
        "        # MSE loss\n",
        "        loss = torch.mean(0.5*(y - out.t())**2)\n",
        "\n",
        "        # backward pass\n",
        "        loss.backward()\n",
        "\n",
        "        # update parameters using SGD\n",
        "        optimizer.step()\n",
        "\n",
        "        # calculate error rate and loss for plot\n",
        "        pred = torch.argmax(out, dim=1)\n",
        "        err = torch.mean((pred != trainlabels_iter).float())\n",
        "        errs.append(err.detach().numpy())\n",
        "        losses.append(loss.detach().numpy())\n",
        "\n",
        "        \n",
        "        # plots\n",
        "        if (t + 1) % disp_freq == 0:\n",
        "            plt.gcf().clear()\n",
        "            visualize(len(errs) - 1, losses, errs, out[0,:].detach(), lenet5.record[\"F6\"][:, 0], \n",
        "                      lenet5.record[\"C5\"][:, 0], imgs[0, 0].detach(), lenet5.C1.weight.detach().squeeze())\n",
        "            print(str(time.time() - t_start) + \" seconds per \" + str(disp_freq) + \" iterations\")\n",
        "            t_start = time.time()\n",
        "            time.sleep(0.01)"
      ],
      "execution_count": 17,
      "outputs": [
        {
          "output_type": "display_data",
          "data": {
            "image/png": "[encoded data removed]",
            "text/plain": [
              "<Figure size 1332x756 with 12 Axes>"
            ]
          },
          "metadata": {
            "tags": []
          }
        },
        {
          "output_type": "stream",
          "text": [
            "3.62276911736 seconds per 100 iterations\n"
          ],
          "name": "stdout"
        },
        {
          "output_type": "display_data",
          "data": {
            "image/png": "[encoded data removed]",
            "text/plain": [
              "<Figure size 1332x756 with 12 Axes>"
            ]
          },
          "metadata": {
            "tags": [],
            "needs_background": "light"
          }
        }
      ]
    },
    {
      "cell_type": "code",
      "metadata": {
        "id": "bp9ObStgUgyx"
      },
      "source": [
        ""
      ],
      "execution_count": null,
      "outputs": []
    },
    {
      "cell_type": "markdown",
      "metadata": {
        "id": "xDy-y9XqivNA"
      },
      "source": [
        "### Use ReLU activation and change C5 to F5\n",
        "Now let's implement a varant of LeNet-5, use `ReLU` activation function instead of `tanh` activation function for each layer. And change the convolutional layer C5 in the original net work to a fully connected layer F5. You will have to use softmax as the network output. "
      ]
    },
    {
      "cell_type": "code",
      "metadata": {
        "id": "YPlUN_KAivi7"
      },
      "source": [
        "class LeNet5_Relu(nn.Module):\n",
        "\n",
        "    # definition of each neural network layer\n",
        "    def __init__(self):\n",
        "        super(LeNet5_Relu, self).__init__()\n",
        "        self.C1 = nn.Conv2d(1, 6, kernel_size=(5, 5))\n",
        "        self.S2 = nn.MaxPool2d(kernel_size=(2, 2), stride=2)\n",
        "        self.C3 = nn.Conv2d(6, 16, kernel_size=(5, 5))\n",
        "        self.S4 = nn.MaxPool2d(kernel_size=(2, 2), stride=2)\n",
        "        \n",
        "        ####### Complete the defition of F5 #################\n",
        "        \n",
        "        self.F5 = nn.Conv2d(16, 120, kernel_size=(5,5)) \n",
        "\n",
        "        #####################################################\n",
        "\n",
        "        self.F6 = nn.Linear(120, 84)\n",
        "\n",
        "        # output layer\n",
        "        self.OL = nn.Linear(84, 10)\n",
        "        \n",
        "        # record C5 & C6 activation for visualization\n",
        "        self.record = {\"F5\":None, \"F6\":None}\n",
        "\n",
        "    # definition of the forward pass\n",
        "    def forward(self, x):\n",
        "        \n",
        "        ####### Complete the foward pass C1 >> F5 ##########\n",
        "        x = torch.relu(self.C1(x))\n",
        "        x = self.S2(x)\n",
        "        x = torch.relu(self.C2(x))\n",
        "        x = self.S4(x)\n",
        "        x = torch.relu(self.F5(x))\n",
        "        x = x.view(120, -1)\n",
        "\n",
        "        #####################################################\n",
        "\n",
        "        self.record[\"F5\"] = x.clone().detach().numpy()\n",
        "        x = torch.relu(self.F6(x))\n",
        "        self.record[\"F6\"] = x.clone().detach().numpy()\n",
        "        x = functional.softmax(self.OL(x), dim=1)\n",
        "        \n",
        "        return x"
      ],
      "execution_count": 18,
      "outputs": []
    }
  ]
}